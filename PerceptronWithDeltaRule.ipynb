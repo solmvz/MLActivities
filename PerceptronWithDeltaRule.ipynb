{
  "nbformat": 4,
  "nbformat_minor": 0,
  "metadata": {
    "colab": {
      "provenance": [],
      "authorship_tag": "ABX9TyOb0qjbQt2A9VJz9uTcAvDA",
      "include_colab_link": true
    },
    "kernelspec": {
      "name": "python3",
      "display_name": "Python 3"
    },
    "language_info": {
      "name": "python"
    }
  },
  "cells": [
    {
      "cell_type": "markdown",
      "metadata": {
        "id": "view-in-github",
        "colab_type": "text"
      },
      "source": [
        "<a href=\"https://colab.research.google.com/github/solmvz/MLActivities/blob/main/PerceptronWithDeltaRule.ipynb\" target=\"_parent\"><img src=\"https://colab.research.google.com/assets/colab-badge.svg\" alt=\"Open In Colab\"/></a>"
      ]
    },
    {
      "cell_type": "markdown",
      "source": [
        "Perceptron Using Gradient Descent (a.k.a the delta rule)"
      ],
      "metadata": {
        "id": "Z5uJYt9PPHEK"
      }
    },
    {
      "cell_type": "code",
      "source": [
        "import numpy as np\n",
        "import pandas as pd\n",
        "import matplotlib.pyplot as plt"
      ],
      "metadata": {
        "id": "SN9_ePws5sWx"
      },
      "execution_count": 8,
      "outputs": []
    },
    {
      "cell_type": "code",
      "execution_count": 4,
      "metadata": {
        "id": "ydd70MxrOUu1"
      },
      "outputs": [],
      "source": [
        "def activate(instance, weights):\n",
        "  activation = weights[0]\n",
        "  for i in range(len(instance)-1):\n",
        "    activation += weights[i+1]*instance[i]\n",
        "  return 1 if activation >= 0.0 else 0"
      ]
    },
    {
      "cell_type": "code",
      "source": [
        "def stochastic_gradient_descent(X, lr, epochs):\n",
        "  W = np.zeros((len(X[0])))\n",
        "  for epoch in range(epochs):\n",
        "    sum_error = 0.0\n",
        "    for row in X:\n",
        "      predicted_y = activate(row, W)\n",
        "      error = row[-1] - predicted_y\n",
        "      sum_error += error**2\n",
        "      #update bias term\n",
        "      W[0] = W[0] + lr*error\n",
        "      #update weights corresponding to misclassified instances\n",
        "      for k in range(len(row)-1):\n",
        "        #print(feature, \"-ith feature\")\n",
        "        W[k+1] = W[k+1] + lr*error*row[k]\n",
        "    \n",
        "    print('>epoch=%d, lrate=%.3f, error=%.3f' % (epoch, lr, sum_error))\n",
        "  \n",
        "  return W\n"
      ],
      "metadata": {
        "id": "7byPPEeaTC-K"
      },
      "execution_count": 5,
      "outputs": []
    },
    {
      "cell_type": "code",
      "source": [
        "X = np.array([[2.7810836,2.550537003,0],\n",
        "\t[1.465489372,2.362125076,0],\n",
        "\t[3.396561688,4.400293529,0],\n",
        "\t[1.38807019,1.850220317,0],\n",
        "\t[3.06407232,3.005305973,0],\n",
        "\t[7.627531214,2.759262235,1],\n",
        "\t[5.332441248,2.088626775,1],\n",
        "\t[6.922596716,1.77106367,1],\n",
        "\t[8.675418651,-0.242068655,1],\n",
        "\t[7.673756466,3.508563011,1]])\n",
        "\n",
        "W = stochastic_gradient_descent(X, 0.1, 5)\n",
        "print(W)"
      ],
      "metadata": {
        "colab": {
          "base_uri": "https://localhost:8080/"
        },
        "id": "Su92jtDgTbbW",
        "outputId": "0bc12555-0d30-4ee2-b34d-babfce108d6b"
      },
      "execution_count": 6,
      "outputs": [
        {
          "output_type": "stream",
          "name": "stdout",
          "text": [
            ">epoch=0, lrate=0.100, error=2.000\n",
            ">epoch=1, lrate=0.100, error=1.000\n",
            ">epoch=2, lrate=0.100, error=0.000\n",
            ">epoch=3, lrate=0.100, error=0.000\n",
            ">epoch=4, lrate=0.100, error=0.000\n",
            "[-0.1         0.2065364  -0.23418118]\n"
          ]
        }
      ]
    },
    {
      "cell_type": "markdown",
      "source": [
        "We can see that with only 5 iteration we get to zero error. "
      ],
      "metadata": {
        "id": "cVi0Ki6A56qj"
      }
    }
  ]
}